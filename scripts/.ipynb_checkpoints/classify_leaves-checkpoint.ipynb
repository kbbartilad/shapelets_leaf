{
 "cells": [
  {
   "cell_type": "code",
   "execution_count": 1,
   "id": "8a3d31ea-4429-4e76-99a2-8c5c7e5b707a",
   "metadata": {},
   "outputs": [],
   "source": [
    "import numpy as np\n",
    "import matplotlib.pyplot as plt\n",
    "from tslearn.metrics import dtw\n",
    "from tslearn.preprocessing import TimeSeriesScalerMinMax\n",
    "from tslearn.shapelets import LearningShapelets, \\\n",
    "    grabocka_params_to_shapelet_size_dict"
   ]
  },
  {
   "cell_type": "code",
   "execution_count": 2,
   "id": "f0a7394d-ae0f-4fd0-bc80-654f248c729b",
   "metadata": {},
   "outputs": [],
   "source": [
    "train_data = np.genfromtxt('../data/OSULeaf_TRAIN.txt')\n",
    "test_data = np.genfromtxt('../data/OSULeaf_TEST.txt')"
   ]
  },
  {
   "cell_type": "code",
   "execution_count": 3,
   "id": "84aea0cf-ee28-4652-8298-e5a3e06c4ca7",
   "metadata": {},
   "outputs": [],
   "source": [
    "X_train = train_data[:,1:]\n",
    "y_train = train_data[:,0]"
   ]
  },
  {
   "cell_type": "code",
   "execution_count": 4,
   "id": "4f531bd7-4842-4c54-91cb-fbf4e8025f8d",
   "metadata": {},
   "outputs": [],
   "source": [
    "X_test = test_data[:,1:]\n",
    "y_test = test_data[:,0]"
   ]
  },
  {
   "cell_type": "code",
   "execution_count": 28,
   "id": "8269aa1b-2a52-4d06-82e9-0000f0d487cd",
   "metadata": {},
   "outputs": [],
   "source": [
    "test_seq = X_test[0]"
   ]
  },
  {
   "cell_type": "code",
   "execution_count": 34,
   "id": "2f513d59-26a6-4ad9-9e7c-ccb82fc57df4",
   "metadata": {},
   "outputs": [],
   "source": [
    "dtw_dict = {}\n",
    "for CLASS in range(1,7):\n",
    "    train_class = X_train[np.where(y_train==CLASS)]\n",
    "    dtw_score = []\n",
    "    for train_seq in train_class:\n",
    "        dtw_score.append(dtw(test_seq, train_seq))\n",
    "    dtw_dict[f'Class_{CLASS}'] = dtw_score"
   ]
  },
  {
   "cell_type": "code",
   "execution_count": 36,
   "id": "cf08444a-b187-4b7a-8dd1-4f166ec35449",
   "metadata": {},
   "outputs": [],
   "source": [
    "dtw_mean = {}\n",
    "for key, vals in dtw_dict.items():\n",
    "    dtw_mean[key] = np.mean(vals)"
   ]
  },
  {
   "cell_type": "code",
   "execution_count": 37,
   "id": "eb444495-caac-4c00-a7fe-fecaf404a984",
   "metadata": {},
   "outputs": [
    {
     "data": {
      "text/plain": [
       "{'Class_1': np.float64(7.757273008634903),\n",
       " 'Class_2': np.float64(9.985754209117044),\n",
       " 'Class_3': np.float64(8.20279804586223),\n",
       " 'Class_4': np.float64(9.955665610746955),\n",
       " 'Class_5': np.float64(6.604638446592319),\n",
       " 'Class_6': np.float64(8.86511791959894)}"
      ]
     },
     "execution_count": 37,
     "metadata": {},
     "output_type": "execute_result"
    }
   ],
   "source": [
    "dtw_mean"
   ]
  },
  {
   "cell_type": "code",
   "execution_count": 8,
   "id": "13267447-5b01-4dc1-9994-fa924f91930a",
   "metadata": {},
   "outputs": [
    {
     "data": {
      "text/plain": [
       "np.float64(5.0)"
      ]
     },
     "execution_count": 8,
     "metadata": {},
     "output_type": "execute_result"
    }
   ],
   "source": [
    "y_test[0]"
   ]
  },
  {
   "cell_type": "code",
   "execution_count": null,
   "id": "270f08bd-39f5-4823-8882-a39908208ea5",
   "metadata": {},
   "outputs": [],
   "source": [
    "X_train = TimeSeriesScalerMinMax().fit_transform(X_train)\n",
    "\n",
    "# Get statistics of the dataset\n",
    "n_ts, ts_sz = X_train.shape[:2]\n",
    "n_classes = len(set(y_train))\n",
    "\n",
    "# We will extract 1 shapelet and align it with a time series\n",
    "shapelet_sizes = {20: 1}\n",
    "\n",
    "# Define the model and fit it using the training data\n",
    "shp_clf = LearningShapelets(n_shapelets_per_size=shapelet_sizes,\n",
    "                            weight_regularizer=0.001,\n",
    "                            optimizer=Adam(lr=0.01),\n",
    "                            max_iter=250,\n",
    "                            verbose=0,\n",
    "                            scale=False,\n",
    "                            random_state=42)\n",
    "shp_clf.fit(X_train, y_train)\n",
    "\n",
    "# Get the number of extracted shapelets, the (minimal) distances from\n",
    "# each of the timeseries to each of the shapelets, and the corresponding\n",
    "# locations (index) where the minimal distance was found\n",
    "n_shapelets = sum(shapelet_sizes.values())\n",
    "distances = shp_clf.transform(X_train)\n",
    "predicted_locations = shp_clf.locate(X_train)\n",
    "\n",
    "f, ax = plt.subplots(2, 1, sharex=True)\n",
    "\n",
    "# Plot the shapelet and align it on the best matched time series. The optimizer\n",
    "# will often enlarge the shapelet to create a larger gap between the distances\n",
    "# of both classes. We therefore normalize the shapelet again before plotting.\n",
    "test_ts_id = np.argmin(np.sum(distances, axis=1))\n",
    "shap = shp_clf.shapelets_[0]\n",
    "shap = TimeSeriesScalerMinMax().fit_transform(shap.reshape(1, -1, 1)).flatten()\n",
    "pos = predicted_locations[test_ts_id, 0]\n",
    "ax[0].plot(X_train[test_ts_id].ravel())\n",
    "ax[0].plot(numpy.arange(pos, pos + len(shap)), shap, linewidth=2)\n",
    "ax[0].axvline(pos, color='k', linestyle='--', alpha=0.25)\n",
    "ax[0].set_title(\"The aligned extracted shapelet\")\n",
    "\n",
    "# We calculate the distances from the shapelet to the timeseries ourselves.\n",
    "distances = []\n",
    "time_series = X_train[test_ts_id].ravel()\n",
    "for i in range(len(time_series) - len(shap)):\n",
    "    distances.append(numpy.linalg.norm(time_series[i:i+len(shap)] - shap))\n",
    "ax[1].plot(distances)\n",
    "ax[1].axvline(numpy.argmin(distances), color='k', linestyle='--', alpha=0.25)\n",
    "ax[1].set_title('The distances between the time series and the shapelet')\n",
    "\n",
    "plt.tight_layout()\n",
    "plt.show()"
   ]
  }
 ],
 "metadata": {
  "kernelspec": {
   "display_name": "Python [conda env:shapelets]",
   "language": "python",
   "name": "conda-env-shapelets-py"
  },
  "language_info": {
   "codemirror_mode": {
    "name": "ipython",
    "version": 3
   },
   "file_extension": ".py",
   "mimetype": "text/x-python",
   "name": "python",
   "nbconvert_exporter": "python",
   "pygments_lexer": "ipython3",
   "version": "3.12.10"
  }
 },
 "nbformat": 4,
 "nbformat_minor": 5
}
